{
 "cells": [
  {
   "attachments": {},
   "cell_type": "markdown",
   "metadata": {},
   "source": [
    "##### 0. Imports"
   ]
  },
  {
   "cell_type": "code",
   "execution_count": 22,
   "metadata": {},
   "outputs": [],
   "source": [
    "import neptune as neptune\n",
    "from dotenv import load_dotenv\n",
    "\n",
    "import os\n",
    "\n",
    "import sys\n",
    "sys.path.insert(0, os.path.abspath('../'))\n",
    "from src.data.make_dataset import Data\n",
    "from src.models.train_model import Trainer\n",
    "from src.utils.utils import get_config, get_previous_month"
   ]
  },
  {
   "attachments": {},
   "cell_type": "markdown",
   "metadata": {},
   "source": [
    "##### 1. Load environement variables & start a Neptune run"
   ]
  },
  {
   "cell_type": "code",
   "execution_count": 23,
   "metadata": {},
   "outputs": [],
   "source": [
    "load_dotenv()\n",
    "\n",
    "PROJECT_NAME = os.getenv('PROJECT_NAME')\n",
    "NEPTUNE_API_TOKEN = os.getenv('NEPTUNE_API_TOKEN')\n",
    "BASE_URL = os.getenv('BASE_URL')"
   ]
  },
  {
   "cell_type": "code",
   "execution_count": 24,
   "metadata": {},
   "outputs": [
    {
     "name": "stdout",
     "output_type": "stream",
     "text": [
      "https://app.neptune.ai/hicham.benbriqa/mlops-zoom-camp/e/MLOPS-22\n"
     ]
    }
   ],
   "source": [
    "run = neptune.init_run(project=PROJECT_NAME, api_token=NEPTUNE_API_TOKEN, capture_hardware_metrics=True)"
   ]
  },
  {
   "attachments": {},
   "cell_type": "markdown",
   "metadata": {},
   "source": [
    "##### 2. Download and prepare the train and test data "
   ]
  },
  {
   "cell_type": "code",
   "execution_count": 25,
   "metadata": {},
   "outputs": [],
   "source": [
    "## Get the year and month of the data to be used for training\n",
    "## Get the previous year and previous month of the data to be used for testing\n",
    "taxi_type, train_year, train_month = get_config(config_type='data')\n",
    "test_year, test_month = get_previous_month(train_year, train_month)\n",
    "\n",
    "## Get the hyperparameters for the model\n",
    "params = get_config(config_type='model')\n",
    "\n",
    "# set tags for organization purposes\n",
    "run[\"sys/tags\"].add([taxi_type])\n",
    "run[\"sys/tags\"].add([str(train_year)])\n",
    "run[\"sys/tags\"].add([str(train_month)])"
   ]
  },
  {
   "cell_type": "code",
   "execution_count": 26,
   "metadata": {},
   "outputs": [
    {
     "name": "stdout",
     "output_type": "stream",
     "text": [
      "Taxi type: green\n",
      "Train year: 2022\n",
      "Train month: 3\n",
      "Test year: 2022\n",
      "Test month: 2\n"
     ]
    }
   ],
   "source": [
    "print(f'Taxi type: {taxi_type}')\n",
    "print(f'Train year: {train_year}')\n",
    "print(f'Train month: {train_month}')\n",
    "print(f'Test year: {test_year}')\n",
    "print(f'Test month: {test_month}')"
   ]
  },
  {
   "cell_type": "code",
   "execution_count": 27,
   "metadata": {},
   "outputs": [],
   "source": [
    "## Instantiate a Data object for training and testing\n",
    "train_data = Data(taxi_type, train_year, train_month, mode='train', root_folder='../data')\n",
    "test_data = Data(taxi_type, test_year, test_month, mode='test', root_folder='../data')"
   ]
  },
  {
   "cell_type": "code",
   "execution_count": 28,
   "metadata": {},
   "outputs": [],
   "source": [
    "## Run the Data object to download, prepare and save the train and test data\n",
    "train_data.run()\n",
    "test_data.run()"
   ]
  },
  {
   "cell_type": "code",
   "execution_count": 29,
   "metadata": {},
   "outputs": [],
   "source": [
    "## Get the target values for the train and test data to be used for evaluation\n",
    "y_train, y_test = train_data.get_target_values(), test_data.get_target_values()"
   ]
  },
  {
   "cell_type": "code",
   "execution_count": 30,
   "metadata": {},
   "outputs": [],
   "source": [
    "## track train/test data files\n",
    "run[\"datasets/train\"].track_files(train_data.paths['processed'])\n",
    "run[\"datasets/test\"].track_files(test_data.paths['processed'])"
   ]
  },
  {
   "attachments": {},
   "cell_type": "markdown",
   "metadata": {},
   "source": [
    "##### 3. Train and evaluate the pipeline "
   ]
  },
  {
   "cell_type": "code",
   "execution_count": 31,
   "metadata": {},
   "outputs": [
    {
     "name": "stdout",
     "output_type": "stream",
     "text": [
      "{'n_estimators': 500, 'max_depth': 40} 5.863639232115829\n"
     ]
    }
   ],
   "source": [
    "## Instantiate a Trainer object to train and evaluate the model\n",
    "trainer = Trainer(train_data.data_dict, y_train, test_data.data_dict, y_test, params=params, root_folder='../models')\n",
    "trainer.train()\n",
    "rmse = trainer.evaluate()\n",
    "print(trainer.params, rmse)"
   ]
  },
  {
   "cell_type": "code",
   "execution_count": 32,
   "metadata": {},
   "outputs": [],
   "source": [
    "## Save the pipeline\n",
    "trainer.save_pipeline()"
   ]
  },
  {
   "cell_type": "code",
   "execution_count": 33,
   "metadata": {},
   "outputs": [],
   "source": [
    "# track hyperparams\n",
    "run[\"parameters\"] = trainer.params\n",
    "# upload rmse\n",
    "run[\"test/rmse\"].append(rmse)\n",
    "#upload model artifact \n",
    "run[\"trained_pipelines/pipeline\"].upload(trainer.pipeline_path)"
   ]
  },
  {
   "cell_type": "code",
   "execution_count": 34,
   "metadata": {},
   "outputs": [
    {
     "name": "stdout",
     "output_type": "stream",
     "text": [
      "Shutting down background jobs, please wait a moment...\n",
      "Done!\n",
      "Waiting for the remaining 8 operations to synchronize with Neptune. Do not kill this process.\n",
      "Still waiting for the remaining 8 operations (0.00% done). Please wait.\n",
      "Still waiting for the remaining 8 operations (0.00% done). Please wait.\n",
      "All 8 operations synced, thanks for waiting!\n",
      "Explore the metadata in the Neptune app:\n",
      "https://app.neptune.ai/hicham.benbriqa/mlops-zoom-camp/e/MLOPS-22/metadata\n"
     ]
    }
   ],
   "source": [
    "run.stop()"
   ]
  },
  {
   "attachments": {},
   "cell_type": "markdown",
   "metadata": {},
   "source": [
    "#  Neptune and Optuna for hyperparameter optimazition"
   ]
  },
  {
   "cell_type": "code",
   "execution_count": 8,
   "metadata": {},
   "outputs": [
    {
     "name": "stderr",
     "output_type": "stream",
     "text": [
      "/tmp/ipykernel_399273/1758828451.py:1: NeptuneWarning: To avoid unintended consumption of logging hours during interactive sessions, the following monitoring options are disabled unless set to 'True' when initializing the run: 'capture_stdout', 'capture_stderr', and 'capture_hardware_metrics'.\n",
      "  run = neptune.init_run(project=PROJECT_NAME, api_token=NEPTUNE_API_TOKEN)\n"
     ]
    },
    {
     "name": "stdout",
     "output_type": "stream",
     "text": [
      "https://app.neptune.ai/hicham.benbriqa/mlops-zoom-camp/e/MLOPS-19\n"
     ]
    }
   ],
   "source": [
    "run = neptune.init_run(project=PROJECT_NAME, api_token=NEPTUNE_API_TOKEN)"
   ]
  },
  {
   "cell_type": "code",
   "execution_count": 9,
   "metadata": {},
   "outputs": [],
   "source": [
    "def get_data(taxi_type, year, month):\n",
    "    train_year, train_month = year, month\n",
    "    test_year, test_month = get_previous_month(train_year, train_month)\n",
    "\n",
    "    train_data = Data(taxi_type, train_year, train_month, mode='train', root_folder='../data')\n",
    "    test_data = Data(taxi_type, test_year, test_month, mode='test', root_folder='../data')\n",
    "\n",
    "    train_data.run()\n",
    "    test_data.run()\n",
    "\n",
    "    y_train, y_test = train_data.get_target_values(), test_data.get_target_values()\n",
    "\n",
    "    return train_data.data_dict, test_data.data_dict, y_train, y_test\n",
    "\n",
    "def train_pipeline(train_dict, test_dict, y_train, y_test, params):\n",
    "    trainer = Trainer(dict_train=train_dict, dict_test=test_dict, y_train=y_train,y_test=y_test, params=params, root_folder='../models')\n",
    "    trainer.train()\n",
    "    return trainer\n",
    "\n",
    "def run_pipeline(trial):\n",
    "    n_estimators = trial.suggest_int('n_estimators', 50, 100)\n",
    "    max_depth = trial.suggest_int('max_depth', 10, 20)\n",
    "    #max_samples = trial.suggest_float(\"max_samples\", 0.2, 1)\n",
    "\n",
    "    # Get the specified hyperpaprameters\n",
    "    params = {'n_estimators': n_estimators, 'max_depth': max_depth}\n",
    "\n",
    "    ## Get data of the specified taxi type, year and month in The config file. hint: parametrizing the way the data is loaded\n",
    "    ## can help you extend the tuning to the data used for training and testing.\n",
    "    taxi_type, year, month = get_config(config_type='data')\n",
    "    train_dict, test_dict, y_train, y_test = get_data(taxi_type, year, month)\n",
    "    \n",
    "    trainer = train_pipeline(train_dict, test_dict, y_train, y_test, params)\n",
    "    return trainer\n",
    "\n",
    "def objective(trial):\n",
    "    trainer =  run_pipeline(trial)\n",
    "    print('here')\n",
    "    rmse = trainer.evaluate()\n",
    "    return rmse"
   ]
  },
  {
   "cell_type": "code",
   "execution_count": 10,
   "metadata": {},
   "outputs": [
    {
     "name": "stderr",
     "output_type": "stream",
     "text": [
      "/home/hicham/.pyenv/versions/3.9.7/envs/test_optuna/lib/python3.9/site-packages/tqdm/auto.py:21: TqdmWarning: IProgress not found. Please update jupyter and ipywidgets. See https://ipywidgets.readthedocs.io/en/stable/user_install.html\n",
      "  from .autonotebook import tqdm as notebook_tqdm\n"
     ]
    }
   ],
   "source": [
    "import optuna\n",
    "import neptune.integrations.optuna as optuna_utils\n",
    "\n",
    "neptune_callback = optuna_utils.NeptuneCallback(run)"
   ]
  },
  {
   "cell_type": "code",
   "execution_count": 11,
   "metadata": {},
   "outputs": [
    {
     "name": "stderr",
     "output_type": "stream",
     "text": [
      "[I 2023-06-26 13:43:54,793] A new study created in RDB with name: starter-experiment-9\n"
     ]
    }
   ],
   "source": [
    "study = optuna.create_study(direction='maximize', study_name=\"starter-experiment-9\", storage='sqlite:///starter.db')"
   ]
  },
  {
   "cell_type": "code",
   "execution_count": null,
   "metadata": {},
   "outputs": [],
   "source": [
    "study.optimize(objective, n_trials=10, callbacks=[neptune_callback])"
   ]
  },
  {
   "cell_type": "code",
   "execution_count": null,
   "metadata": {},
   "outputs": [],
   "source": [
    "trial = study.best_trial\n",
    "print(\"Best Score: \", trial.value)\n",
    "print(\"Best Params: \")\n",
    "for key, value in trial.params.items():\n",
    "    print(\"  {}: {}\".format(key, value))"
   ]
  },
  {
   "cell_type": "code",
   "execution_count": null,
   "metadata": {},
   "outputs": [],
   "source": [
    "best_model = create_model(study.best_trial)\n",
    "best_model.fit(X_train, y_train)\n",
    "y_pred = rf.predict(X_val)\n",
    "mse = mean_squared_error(y_val, y_pred, squared=False)\n",
    "print(\"Performance: \", mse)"
   ]
  },
  {
   "cell_type": "code",
   "execution_count": null,
   "metadata": {},
   "outputs": [],
   "source": [
    "dump(rf, \"best_model.pkl\")"
   ]
  },
  {
   "attachments": {},
   "cell_type": "markdown",
   "metadata": {},
   "source": [
    "# Neptune model registery"
   ]
  },
  {
   "attachments": {},
   "cell_type": "markdown",
   "metadata": {},
   "source": [
    "The Model object is suitable for storing general metadata that is shared by all versions of the model – for example, the model signature and validation datasets."
   ]
  },
  {
   "cell_type": "code",
   "execution_count": 14,
   "metadata": {
    "scrolled": true
   },
   "outputs": [
    {
     "name": "stdout",
     "output_type": "stream",
     "text": [
      "https://app.neptune.ai/hicham.benbriqa/mlops-zoom-camp/m/MLOPS-RF1\n"
     ]
    }
   ],
   "source": [
    "# Create a new model if you change the algorithm or train/test data for example, when doing hyperparameter tuning, create a new model version instead\n",
    "model = neptune.init_model(\n",
    "    project=PROJECT_NAME, \n",
    "    api_token=NEPTUNE_API_TOKEN,\n",
    "    name=\"Best RF optuna model\",\n",
    "    key = 'RF1'\n",
    ")"
   ]
  },
  {
   "attachments": {},
   "cell_type": "markdown",
   "metadata": {},
   "source": [
    "Track model metadata by assigning them to the model object:"
   ]
  },
  {
   "cell_type": "code",
   "execution_count": 16,
   "metadata": {},
   "outputs": [],
   "source": [
    "model[\"data/train\"].track_files(train_data.paths['processed'])\n",
    "model[\"data/test\"].track_files(test_data.paths['processed'])\n"
   ]
  },
  {
   "attachments": {},
   "cell_type": "markdown",
   "metadata": {},
   "source": [
    "## Creating a model version"
   ]
  },
  {
   "attachments": {},
   "cell_type": "markdown",
   "metadata": {},
   "source": [
    "Once you have registered a model, you can create and store versions of it. This lets you track the stage, binaries, and relevant metadata of each model version separately."
   ]
  },
  {
   "attachments": {},
   "cell_type": "markdown",
   "metadata": {},
   "source": [
    "Initialize a ModelVersion object based on the ID of an existing model:"
   ]
  },
  {
   "cell_type": "code",
   "execution_count": 35,
   "metadata": {},
   "outputs": [
    {
     "name": "stdout",
     "output_type": "stream",
     "text": [
      "https://app.neptune.ai/hicham.benbriqa/mlops-zoom-camp/m/MLOPS-RF1/v/MLOPS-RF1-2\n"
     ]
    }
   ],
   "source": [
    "model_version = neptune.init_model_version(project=PROJECT_NAME, api_token=NEPTUNE_API_TOKEN,\n",
    "    model=\"MLOPS-RF1\") #Neptune ID of the model, which comes from the project \n",
    "                             #key and model key put together. You can find it in the \n",
    "                             #leftmost column of the models table."
   ]
  },
  {
   "cell_type": "code",
   "execution_count": 36,
   "metadata": {},
   "outputs": [],
   "source": [
    "model_version[\"model/binary\"].upload(\"../models/pipeline.joblib\")\n",
    "\n",
    "model_version[\"model/parameters\"] = params\n",
    "model_version[\"model/environment/poetry.lock\"].upload(\"../poetry.lock\")\n",
    "model_version[\"model/environment/pyproject.toml\"].upload(\"../pyproject.toml\")\n",
    "model_version[\"test/rmse\"] = rmse"
   ]
  },
  {
   "attachments": {},
   "cell_type": "markdown",
   "metadata": {},
   "source": [
    "To stop the connection to Neptune and sync all data, call the stop() method "
   ]
  },
  {
   "cell_type": "code",
   "execution_count": 37,
   "metadata": {},
   "outputs": [
    {
     "name": "stdout",
     "output_type": "stream",
     "text": [
      "Shutting down background jobs, please wait a moment...\n",
      "Done!\n",
      "Waiting for the remaining 6 operations to synchronize with Neptune. Do not kill this process.\n",
      "Still waiting for the remaining 6 operations (0.00% done). Please wait.\n",
      "Still waiting for the remaining 6 operations (0.00% done). Please wait.\n",
      "All 6 operations synced, thanks for waiting!\n",
      "Explore the metadata in the Neptune app:\n",
      "https://app.neptune.ai/hicham.benbriqa/mlops-zoom-camp/m/MLOPS-RF1/v/MLOPS-RF1-2/metadata\n"
     ]
    }
   ],
   "source": [
    "model_version.stop()"
   ]
  },
  {
   "cell_type": "code",
   "execution_count": 20,
   "metadata": {},
   "outputs": [
    {
     "name": "stdout",
     "output_type": "stream",
     "text": [
      "Shutting down background jobs, please wait a moment...\n",
      "Done!\n",
      "All 0 operations synced, thanks for waiting!\n",
      "Explore the metadata in the Neptune app:\n",
      "https://app.neptune.ai/hicham.benbriqa/mlops-zoom-camp/m/MLOPS-RF1/metadata\n"
     ]
    }
   ],
   "source": [
    "model.stop()"
   ]
  },
  {
   "cell_type": "code",
   "execution_count": 21,
   "metadata": {},
   "outputs": [],
   "source": [
    "run.stop()"
   ]
  },
  {
   "attachments": {},
   "cell_type": "markdown",
   "metadata": {},
   "source": [
    "### Manage models version stages"
   ]
  },
  {
   "cell_type": "code",
   "execution_count": 39,
   "metadata": {},
   "outputs": [
    {
     "name": "stdout",
     "output_type": "stream",
     "text": [
      "https://app.neptune.ai/hicham.benbriqa/mlops-zoom-camp/m/MLOPS-RF1\n"
     ]
    }
   ],
   "source": [
    "# Get all the versions of the RF-1 model\n",
    "import neptune\n",
    "\n",
    "model = neptune.init_model(project=PROJECT_NAME, api_token=NEPTUNE_API_TOKEN, with_id=\"MLOPS-RF1\")\n",
    "\n",
    "model_versions_df = model.fetch_model_versions_table().to_pandas()"
   ]
  },
  {
   "cell_type": "code",
   "execution_count": 49,
   "metadata": {},
   "outputs": [
    {
     "data": {
      "text/html": [
       "<div>\n",
       "<style scoped>\n",
       "    .dataframe tbody tr th:only-of-type {\n",
       "        vertical-align: middle;\n",
       "    }\n",
       "\n",
       "    .dataframe tbody tr th {\n",
       "        vertical-align: top;\n",
       "    }\n",
       "\n",
       "    .dataframe thead th {\n",
       "        text-align: right;\n",
       "    }\n",
       "</style>\n",
       "<table border=\"1\" class=\"dataframe\">\n",
       "  <thead>\n",
       "    <tr style=\"text-align: right;\">\n",
       "      <th></th>\n",
       "      <th>sys/creation_time</th>\n",
       "      <th>sys/id</th>\n",
       "      <th>sys/model_id</th>\n",
       "      <th>sys/modification_time</th>\n",
       "      <th>sys/monitoring_time</th>\n",
       "      <th>sys/owner</th>\n",
       "      <th>sys/ping_time</th>\n",
       "      <th>sys/running_time</th>\n",
       "      <th>sys/size</th>\n",
       "      <th>sys/stage</th>\n",
       "      <th>sys/state</th>\n",
       "      <th>sys/tags</th>\n",
       "      <th>sys/trashed</th>\n",
       "      <th>model/parameters/max_depth</th>\n",
       "      <th>model/parameters/n_estimators</th>\n",
       "      <th>test/rmse</th>\n",
       "    </tr>\n",
       "  </thead>\n",
       "  <tbody>\n",
       "    <tr>\n",
       "      <th>0</th>\n",
       "      <td>2023-07-05 16:59:49.366000+00:00</td>\n",
       "      <td>MLOPS-RF1-2</td>\n",
       "      <td>MLOPS-RF1</td>\n",
       "      <td>2023-07-05 17:03:08.372000+00:00</td>\n",
       "      <td>88</td>\n",
       "      <td>hicham.benbriqa</td>\n",
       "      <td>2023-07-05 17:01:38.332000+00:00</td>\n",
       "      <td>21.469</td>\n",
       "      <td>284641828.0</td>\n",
       "      <td>staging</td>\n",
       "      <td>Inactive</td>\n",
       "      <td></td>\n",
       "      <td>False</td>\n",
       "      <td>40</td>\n",
       "      <td>500</td>\n",
       "      <td>5.863639</td>\n",
       "    </tr>\n",
       "    <tr>\n",
       "      <th>1</th>\n",
       "      <td>2023-07-04 17:03:10.396000+00:00</td>\n",
       "      <td>MLOPS-RF1-1</td>\n",
       "      <td>MLOPS-RF1</td>\n",
       "      <td>2023-07-05 17:03:12.351000+00:00</td>\n",
       "      <td>20</td>\n",
       "      <td>hicham.benbriqa</td>\n",
       "      <td>2023-07-04 17:03:35.479000+00:00</td>\n",
       "      <td>0.000</td>\n",
       "      <td>56772755.0</td>\n",
       "      <td>staging</td>\n",
       "      <td>Inactive</td>\n",
       "      <td></td>\n",
       "      <td>False</td>\n",
       "      <td>40</td>\n",
       "      <td>100</td>\n",
       "      <td>5.863760</td>\n",
       "    </tr>\n",
       "  </tbody>\n",
       "</table>\n",
       "</div>"
      ],
      "text/plain": [
       "                 sys/creation_time       sys/id sys/model_id  \\\n",
       "0 2023-07-05 16:59:49.366000+00:00  MLOPS-RF1-2    MLOPS-RF1   \n",
       "1 2023-07-04 17:03:10.396000+00:00  MLOPS-RF1-1    MLOPS-RF1   \n",
       "\n",
       "             sys/modification_time  sys/monitoring_time        sys/owner  \\\n",
       "0 2023-07-05 17:03:08.372000+00:00                   88  hicham.benbriqa   \n",
       "1 2023-07-05 17:03:12.351000+00:00                   20  hicham.benbriqa   \n",
       "\n",
       "                     sys/ping_time  sys/running_time     sys/size sys/stage  \\\n",
       "0 2023-07-05 17:01:38.332000+00:00            21.469  284641828.0   staging   \n",
       "1 2023-07-04 17:03:35.479000+00:00             0.000   56772755.0   staging   \n",
       "\n",
       "  sys/state sys/tags  sys/trashed  model/parameters/max_depth  \\\n",
       "0  Inactive                 False                          40   \n",
       "1  Inactive                 False                          40   \n",
       "\n",
       "   model/parameters/n_estimators  test/rmse  \n",
       "0                            500   5.863639  \n",
       "1                            100   5.863760  "
      ]
     },
     "execution_count": 49,
     "metadata": {},
     "output_type": "execute_result"
    }
   ],
   "source": [
    "model_versions_df.head(3)"
   ]
  },
  {
   "cell_type": "code",
   "execution_count": 46,
   "metadata": {},
   "outputs": [],
   "source": [
    " # Get the version id of the model version that performed the best\n",
    " version_id = model_versions_df[model_versions_df['test/rmse']==model_versions_df['test/rmse'].min()]['sys/id'].values[0]"
   ]
  },
  {
   "cell_type": "code",
   "execution_count": 47,
   "metadata": {},
   "outputs": [
    {
     "name": "stdout",
     "output_type": "stream",
     "text": [
      "https://app.neptune.ai/hicham.benbriqa/mlops-zoom-camp/m/MLOPS-RF1/v/MLOPS-RF1-2\n"
     ]
    }
   ],
   "source": [
    "# Set the version to production\n",
    "model_version = neptune.init_model_version(project=PROJECT_NAME, api_token=NEPTUNE_API_TOKEN,\n",
    "    with_id=version_id,\n",
    ")\n",
    "\n",
    "model_version.change_stage(\"production\")\n"
   ]
  },
  {
   "cell_type": "code",
   "execution_count": 48,
   "metadata": {},
   "outputs": [
    {
     "name": "stdout",
     "output_type": "stream",
     "text": [
      "Shutting down background jobs, please wait a moment...\n",
      "Done!\n",
      "All 0 operations synced, thanks for waiting!\n",
      "Explore the metadata in the Neptune app:\n",
      "https://app.neptune.ai/hicham.benbriqa/mlops-zoom-camp/m/MLOPS-RF1/metadata\n",
      "Shutting down background jobs, please wait a moment...\n",
      "Done!\n",
      "All 0 operations synced, thanks for waiting!\n",
      "Explore the metadata in the Neptune app:\n",
      "https://app.neptune.ai/hicham.benbriqa/mlops-zoom-camp/m/MLOPS-RF1/v/MLOPS-RF1-2/metadata\n"
     ]
    }
   ],
   "source": [
    "model.stop()\n",
    "model_version.stop()"
   ]
  },
  {
   "cell_type": "code",
   "execution_count": 54,
   "metadata": {},
   "outputs": [
    {
     "name": "stdout",
     "output_type": "stream",
     "text": [
      "https://app.neptune.ai/hicham.benbriqa/mlops-zoom-camp/m/MLOPS-RF1\n"
     ]
    }
   ],
   "source": [
    "model = neptune.init_model(\n",
    "        project=PROJECT_NAME,\n",
    "        api_token=NEPTUNE_API_TOKEN,\n",
    "        with_id=\"MLOPS-RF1\",)\n",
    "model_versions_df = model.fetch_model_versions_table().to_pandas()\n",
    "production_models = model_versions_df[model_versions_df[\"sys/stage\"] == \"production\"]"
   ]
  },
  {
   "cell_type": "code",
   "execution_count": 4,
   "metadata": {},
   "outputs": [
    {
     "ename": "NameError",
     "evalue": "name 'model_version' is not defined",
     "output_type": "error",
     "traceback": [
      "\u001b[0;31m---------------------------------------------------------------------------\u001b[0m",
      "\u001b[0;31mNameError\u001b[0m                                 Traceback (most recent call last)",
      "Cell \u001b[0;32mIn[4], line 1\u001b[0m\n\u001b[0;32m----> 1\u001b[0m model_version[\u001b[39m\"\u001b[39m\u001b[39mmodel/binary\u001b[39m\u001b[39m\"\u001b[39m]\n",
      "\u001b[0;31mNameError\u001b[0m: name 'model_version' is not defined"
     ]
    }
   ],
   "source": [
    "model_version[\"model/binary\"]"
   ]
  },
  {
   "cell_type": "code",
   "execution_count": 55,
   "metadata": {},
   "outputs": [
    {
     "data": {
      "text/html": [
       "<div>\n",
       "<style scoped>\n",
       "    .dataframe tbody tr th:only-of-type {\n",
       "        vertical-align: middle;\n",
       "    }\n",
       "\n",
       "    .dataframe tbody tr th {\n",
       "        vertical-align: top;\n",
       "    }\n",
       "\n",
       "    .dataframe thead th {\n",
       "        text-align: right;\n",
       "    }\n",
       "</style>\n",
       "<table border=\"1\" class=\"dataframe\">\n",
       "  <thead>\n",
       "    <tr style=\"text-align: right;\">\n",
       "      <th></th>\n",
       "      <th>sys/creation_time</th>\n",
       "      <th>sys/id</th>\n",
       "      <th>sys/model_id</th>\n",
       "      <th>sys/modification_time</th>\n",
       "      <th>sys/monitoring_time</th>\n",
       "      <th>sys/name</th>\n",
       "      <th>sys/owner</th>\n",
       "      <th>sys/ping_time</th>\n",
       "      <th>sys/running_time</th>\n",
       "      <th>sys/size</th>\n",
       "      <th>sys/stage</th>\n",
       "      <th>sys/state</th>\n",
       "      <th>sys/tags</th>\n",
       "      <th>sys/trashed</th>\n",
       "      <th>model/parameters/max_depth</th>\n",
       "      <th>model/parameters/n_estimators</th>\n",
       "      <th>test/rmse</th>\n",
       "    </tr>\n",
       "  </thead>\n",
       "  <tbody>\n",
       "    <tr>\n",
       "      <th>0</th>\n",
       "      <td>2023-07-05 16:59:49.366000+00:00</td>\n",
       "      <td>MLOPS-RF1-2</td>\n",
       "      <td>MLOPS-RF1</td>\n",
       "      <td>2023-07-05 17:51:55.454000+00:00</td>\n",
       "      <td>88</td>\n",
       "      <td>Untitled</td>\n",
       "      <td>hicham.benbriqa</td>\n",
       "      <td>2023-07-05 17:53:07.660000+00:00</td>\n",
       "      <td>358.337</td>\n",
       "      <td>284641859.0</td>\n",
       "      <td>production</td>\n",
       "      <td>Active</td>\n",
       "      <td></td>\n",
       "      <td>False</td>\n",
       "      <td>40</td>\n",
       "      <td>500</td>\n",
       "      <td>5.863639</td>\n",
       "    </tr>\n",
       "  </tbody>\n",
       "</table>\n",
       "</div>"
      ],
      "text/plain": [
       "                 sys/creation_time       sys/id sys/model_id  \\\n",
       "0 2023-07-05 16:59:49.366000+00:00  MLOPS-RF1-2    MLOPS-RF1   \n",
       "\n",
       "             sys/modification_time  sys/monitoring_time  sys/name  \\\n",
       "0 2023-07-05 17:51:55.454000+00:00                   88  Untitled   \n",
       "\n",
       "         sys/owner                    sys/ping_time  sys/running_time  \\\n",
       "0  hicham.benbriqa 2023-07-05 17:53:07.660000+00:00           358.337   \n",
       "\n",
       "      sys/size   sys/stage sys/state sys/tags  sys/trashed  \\\n",
       "0  284641859.0  production    Active                 False   \n",
       "\n",
       "   model/parameters/max_depth  model/parameters/n_estimators  test/rmse  \n",
       "0                          40                            500   5.863639  "
      ]
     },
     "execution_count": 55,
     "metadata": {},
     "output_type": "execute_result"
    }
   ],
   "source": [
    "production_models"
   ]
  },
  {
   "cell_type": "code",
   "execution_count": 3,
   "metadata": {},
   "outputs": [],
   "source": [
    "from joblib import load\n",
    "model = load(\"../models/pipeline.joblib\")"
   ]
  },
  {
   "cell_type": "code",
   "execution_count": null,
   "metadata": {},
   "outputs": [],
   "source": []
  },
  {
   "cell_type": "code",
   "execution_count": null,
   "metadata": {},
   "outputs": [],
   "source": []
  },
  {
   "cell_type": "code",
   "execution_count": null,
   "metadata": {},
   "outputs": [],
   "source": []
  }
 ],
 "metadata": {
  "kernelspec": {
   "display_name": "Python 3 (ipykernel)",
   "language": "python",
   "name": "python3"
  },
  "language_info": {
   "codemirror_mode": {
    "name": "ipython",
    "version": 3
   },
   "file_extension": ".py",
   "mimetype": "text/x-python",
   "name": "python",
   "nbconvert_exporter": "python",
   "pygments_lexer": "ipython3",
   "version": "3.9.7"
  },
  "vscode": {
   "interpreter": {
    "hash": "633ea040ad0fc614f1274ab1d28fff8a0200b17b8245b18f09f941843a96dc32"
   }
  }
 },
 "nbformat": 4,
 "nbformat_minor": 2
}
